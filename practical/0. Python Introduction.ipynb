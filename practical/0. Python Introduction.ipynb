{
 "cells": [
  {
   "cell_type": "markdown",
   "metadata": {},
   "source": [
    "#### Congrats for successfully opening your first Jupyter notebook. \n",
    "\n",
    "What you see below are cells with either code or instructions. You can run each cell seperately by pressing **[shift] + [return]** when the cursor is within it. Plots or output created in the cell code will appear below it. The main point about Jupyter notebook is that everything is editable and interactive. \n",
    "\n",
    "You need to keep open the terminal window in the background since your python code from the notebook will, basically, run there. \n",
    "\n",
    "You can create new cells below the current one by clicking on the **[+]** button on the upper left. Look a bit around the other clickable buttons in the menu. There is also a button for saving the notebook."
   ]
  },
  {
   "cell_type": "markdown",
   "metadata": {},
   "source": [
    "# Markdown\n",
    "\n",
    "There are two main cell types, \"Markdown\" and \"Code\". Since I'm writing  explanations I'm currently in a Markdown cell. You can write **comments for your assignments** into them. Documentation that explain specific parts of your code should be written as standard Python comments into the code cells (you will write comments for your assignments and code, right? ;) ).\n",
    "\n",
    "Markdown is a text formatting language based on few simple symbols that the Jupyter Notebooks use to present text in a formatted way. For example you use \\# to create headings of different sizes: \n",
    "\n",
    "# Big heading\n",
    "\n",
    "###### Small heading\n",
    "\n",
    "Or you can write lists with bullet points: \n",
    "* you can create bullet points with \\*\n",
    "* a bullet point with sub bullet points\n",
    "  * turtles all\n",
    "    * the way\n",
    "      * down\n",
    "\n",
    "\n",
    "### \"Running\" a markdown cell\n",
    "Now *double click* into **this** cell and look at the unformatted Markdown code. \n",
    "\n",
    "Markdown cells will be presented **formatted** in the Jupyter Notebook when you press [shift] + [return]. By double-clicking you can edit them and see the original formatting language. Now **format** this cell again."
   ]
  },
  {
   "cell_type": "markdown",
   "metadata": {},
   "source": [
    "### Formulas\n",
    "\n",
    "You can also write formulas into Markdown cells, using standard LaTeX formula notation surrounded by \\$...\\$:   \n",
    "$ e^{i \\pi} + 1 = 0 $\n",
    "\n",
    "These websites will help you if you are not familiar with writing math formulas in LaTeX: \n",
    "\n",
    "[LaTeX equation editor](https://www.codecogs.com/latex/eqneditor.php?lang=en-us)   |   [LaTeX Math symbol search](http://detexify.kirelabs.org/classify.html)"
   ]
  },
  {
   "cell_type": "markdown",
   "metadata": {},
   "source": [
    "### Code\n",
    "In your assignment comments you may want to talk about parts of your code or function names,  i.e. use code for illustrative purposes. When talking about `my_function()` within text as in this sentence, you can format `my_function()` as *code* by surrounding it with backtick quotes: \\`...\\`.\n",
    "\n",
    "If you want to include a block of code in a Markdown cell, you just need to place **4 (extra) spaces** in front of each line:\n",
    "\n",
    "    def fibonacci(n):\n",
    "        \"\"\"Returns the n-th fibonacci number.\"\"\"\n",
    "        if n in (0, 1):\n",
    "            return n\n",
    "        elif n > 1:\n",
    "            return fibonacci(n - 1) + fibonacci(n - 2)\n",
    "        else:\n",
    "            raise ArithmeticError('n must be a non-negative int')\n"
   ]
  },
  {
   "cell_type": "markdown",
   "metadata": {},
   "source": [
    "### Images\n",
    "You can also include images (e.g. scans of handwritten notes) into a markdown cell: \n",
    "\n",
    "![Programming in Python](https://pbs.twimg.com/media/Crt_UxdWgAYWNrz.jpg:medium)\n",
    "\n",
    "The Markdown line for embedding an image is:\n",
    "<pre>![Image title](local_image.png)</pre>\n",
    "\n",
    "When running the Markdown cell with the image, the image must exist locally as a file. \n",
    "\n",
    "For plot images this is different: As soon as they are displayed in the notebook and you save, you can send the notebook to other people and they will see the plot without having to rerun computations or having access to the data.  "
   ]
  },
  {
   "cell_type": "markdown",
   "metadata": {},
   "source": [
    "### Markdown reference\n",
    "You should be ready for writing comments for your assignments now. The Jupyter Notebooks can render a few more advanced Markdown formatting instructions. If you need to know more, take a look at these websites: \n",
    "\n",
    "[Brief Markdown reference](http://www.markitdown.net/markdown)\n",
    "\n",
    "[Markdown specification basics](http://daringfireball.net/projects/markdown/)"
   ]
  },
  {
   "cell_type": "markdown",
   "metadata": {
    "collapsed": true
   },
   "source": [
    "# General Python\n",
    "\n",
    "To get familiar with Python we generally recommend working through this nice tutorial from the Introduction to Artificial Intelligence course: \n",
    "\n",
    "[Introduction Artificial Intelligence B Python Tutorial](https://github.com/MareinK/ru-ai-pacman/tree/master/1-python)\n",
    "\n",
    "Note that they **do not** work within Jupyter notebooks, don't need to use the scientific Python stack and that they use Python 3 instead of 2.7\\*. They also have an introduction for the IDE PyCharm, as well as this useful list of common python trouble: \n",
    "\n",
    "[Troubleshooting Guide for Python](https://github.com/MareinK/ru-ai-pacman/blob/master/1-python/troubleshooting.md)\n",
    "\n",
    "\\* Differences between 3 and 2.7 that affect you are mainly about the print function. 99% of everything else remains the same."
   ]
  },
  {
   "cell_type": "markdown",
   "metadata": {},
   "source": [
    "We only cover a few points here to get you started with the assignments and will focus on the number crunching side of things. \n",
    "\n",
    "In general, reading the code and trying to understand what it does is how you use this notebook. You can change any code in the cells below to find out how it works. "
   ]
  },
  {
   "cell_type": "code",
   "execution_count": 1,
   "metadata": {
    "collapsed": false
   },
   "outputs": [
    {
     "name": "stdout",
     "output_type": "stream",
     "text": [
      "Hello World!\n"
     ]
    }
   ],
   "source": [
    "print \"Hello World!\""
   ]
  },
  {
   "cell_type": "markdown",
   "metadata": {},
   "source": [
    "### Example python code: Checking whether a number is prime\n",
    "\n",
    "Now let's finally see some python code: This function checks whether a number is a prime. **Read it and try to understand it**. "
   ]
  },
  {
   "cell_type": "code",
   "execution_count": 2,
   "metadata": {
    "collapsed": true
   },
   "outputs": [],
   "source": [
    "def isprime(n):\n",
    "    \"\"\" \n",
    "    Returns True if n is prime, otherwise False.\n",
    "       \n",
    "    Input parameters: \n",
    "    n: Integer number to check\n",
    "       \n",
    "    Output: \n",
    "    Boolean that is TRUE if n is prime\n",
    "    \"\"\"\n",
    "    \n",
    "    if n <= 1:\n",
    "        return False\n",
    "    \n",
    "    for x in range(2, n):\n",
    "        if (n % x) == 0: \n",
    "            return False\n",
    "        \n",
    "    return True"
   ]
  },
  {
   "cell_type": "markdown",
   "metadata": {},
   "source": [
    "Note that `%` will give you the remainder of a division (modulo operator), e.g.:"
   ]
  },
  {
   "cell_type": "code",
   "execution_count": 3,
   "metadata": {
    "collapsed": false
   },
   "outputs": [
    {
     "name": "stdout",
     "output_type": "stream",
     "text": [
      "Remainder when dividing 42 by 23:  19\n"
     ]
    }
   ],
   "source": [
    "print \"Remainder when dividing 42 by 23: \" ,  42 % 23 "
   ]
  },
  {
   "cell_type": "markdown",
   "metadata": {},
   "source": [
    "Also, `range(number)` will give you a list of numbers through which x iterates in the `for in` loop. \n",
    "\n",
    "Note that Python starts counting at 0 like any normal programming language. When defining ranges of numbers, the \"up to\" number will be the upper limit that does not appear in the list (see the examples). \n",
    "\n",
    "You often need `range()` when writing `for` loops. "
   ]
  },
  {
   "cell_type": "code",
   "execution_count": 4,
   "metadata": {
    "collapsed": false
   },
   "outputs": [
    {
     "name": "stdout",
     "output_type": "stream",
     "text": [
      "Forwards counting list:  [0, 1, 2, 3, 4, 5, 6, 7, 8, 9]\n",
      "Forwards counting list of even numbers:  [0, 2, 4, 6, 8]\n",
      "Backwards counting list:  [23, 22, 21, 20, 19, 18, 17, 16, 15, 14, 13, 12, 11]\n"
     ]
    }
   ],
   "source": [
    "print \"Forwards counting list: \", range(10)\n",
    "\n",
    "print \"Forwards counting list of even numbers: \", range(0,10,2)\n",
    "\n",
    "print \"Backwards counting list: \",  range(23,10,-1)"
   ]
  },
  {
   "cell_type": "markdown",
   "metadata": {},
   "source": [
    "Examples for using function `isprime()`:"
   ]
  },
  {
   "cell_type": "code",
   "execution_count": 5,
   "metadata": {
    "collapsed": false
   },
   "outputs": [
    {
     "name": "stdout",
     "output_type": "stream",
     "text": [
      "Is 9 a prime number? False\n",
      "Is 7 a prime number? True\n"
     ]
    }
   ],
   "source": [
    "print \"Is 9 a prime number?\", isprime(9)\n",
    "print \"Is 7 a prime number?\", isprime(7)"
   ]
  },
  {
   "cell_type": "markdown",
   "metadata": {},
   "source": [
    "### Indentation\n",
    "\n",
    "The indentation with whitespaces at the beginning of the lines is not for making the code look prettier, it is actually part of the code. \n",
    "\n",
    "Whitespaces at the beginnings of lines are used for delimiting code blocks, e.g. statements written after conditionals like `if` and `for`. Compare this example (A): "
   ]
  },
  {
   "cell_type": "code",
   "execution_count": 6,
   "metadata": {
    "collapsed": false
   },
   "outputs": [
    {
     "name": "stdout",
     "output_type": "stream",
     "text": [
      "Math is not broken, all is well\n"
     ]
    }
   ],
   "source": [
    "if 0 == 1:\n",
    "    print('We live in a world of arithmetic pain')\n",
    "print('Math is not broken, all is well')"
   ]
  },
  {
   "cell_type": "markdown",
   "metadata": {},
   "source": [
    "...against this example (B): "
   ]
  },
  {
   "cell_type": "code",
   "execution_count": 7,
   "metadata": {
    "collapsed": false
   },
   "outputs": [],
   "source": [
    "if 0 == 1:\n",
    "    print('We live in a world of arithmetic pain')\n",
    "    print('Math is not broken, all is well')"
   ]
  },
  {
   "cell_type": "markdown",
   "metadata": {},
   "source": [
    "Understand how the indentation leads to output in (A), but not in (B).\n",
    "\n",
    "People tend to recommend using **4 spaces** instead of a single tab. You can pick either, but you must be consistend within your python code. For a comprehensive discussion, refer to: \n",
    "\n",
    "[![Silicon Valley: Tabs vs. Spaces](http://img.youtube.com/vi/SsoOG6ZeyUI/0.jpg)](http://www.youtube.com/watch?v=SsoOG6ZeyUI)"
   ]
  },
  {
   "cell_type": "markdown",
   "metadata": {},
   "source": [
    "Code in `(...)`, `[...]` or  `\"\"\" ... \"\"\"` (multi-line comments used for documentation, see `isprime()` )  is not affected by the indentation rule: "
   ]
  },
  {
   "cell_type": "code",
   "execution_count": 8,
   "metadata": {
    "collapsed": false
   },
   "outputs": [],
   "source": [
    "a_list = [4,\n",
    "          4,\n",
    "          5]"
   ]
  },
  {
   "cell_type": "markdown",
   "metadata": {},
   "source": [
    "In many cases this will make your code more readable."
   ]
  },
  {
   "cell_type": "markdown",
   "metadata": {},
   "source": [
    "### Python Lists"
   ]
  },
  {
   "cell_type": "markdown",
   "metadata": {},
   "source": [
    "Standard Python lists are created with e.g. `mylist = [1,2,3,4]` and can contain any data type (including lists, if you need lists of lists): "
   ]
  },
  {
   "cell_type": "code",
   "execution_count": 9,
   "metadata": {
    "collapsed": false
   },
   "outputs": [
    {
     "name": "stdout",
     "output_type": "stream",
     "text": [
      "Paul\n",
      "Andreas\n",
      "5\n",
      "5.0\n",
      "[\"hello 'string'\", 'I', 'am', 'another', 'list', ['yet another list']]\n"
     ]
    }
   ],
   "source": [
    "for name in [\"Paul\", \"Andreas\", 5, 5.0, [\"hello 'string'\", \"I\", \"am\", \"another\", \"list\", [\"yet another list\"]]]:\n",
    "    print name"
   ]
  },
  {
   "cell_type": "code",
   "execution_count": 10,
   "metadata": {
    "collapsed": false
   },
   "outputs": [
    {
     "name": "stdout",
     "output_type": "stream",
     "text": [
      "Number of uneven numbers between 0 and 10:  5\n",
      "5 appears at position 2 in our list of even numbers.\n",
      "\n",
      "The first number in our list of uneven numbers is 1\n",
      "The last number in our list of uneven numbers is 9\n",
      "The second-last number in our list of uneven numbers is 7\n",
      "\n",
      "The first 3 uneven numbers in our list are  [1, 3, 5]\n",
      "The last 3 uneven numbers in our list are  [5, 7, 9]\n",
      "\n",
      "We have added 11 to our list - let's look at it one more time:  [1, 3, 5, 7, 9, 11]\n"
     ]
    }
   ],
   "source": [
    "# Let's play around with a list (by the way, this is a single line Python comment): \n",
    "\n",
    "even_numbers = range(0,10,2)\n",
    "\n",
    "uneven_numbers = range(1,10,2)\n",
    "\n",
    "print \"Number of uneven numbers between 0 and 10: \", len(even_numbers)\n",
    "\n",
    "print \"5 appears at position \" + str( uneven_numbers.index(5) ) + \" in our list of even numbers.\"\n",
    "\n",
    "print \"\\nThe first number in our list of uneven numbers is\", uneven_numbers[0]\n",
    "\n",
    "print \"The last number in our list of uneven numbers is\", uneven_numbers[-1]\n",
    "\n",
    "print \"The second-last number in our list of uneven numbers is\", uneven_numbers[-2]\n",
    "\n",
    "print \"\\nThe first 3 uneven numbers in our list are \", uneven_numbers[:3]\n",
    "\n",
    "print \"The last 3 uneven numbers in our list are \", uneven_numbers[2:]\n",
    "\n",
    "uneven_numbers.append(11)\n",
    "print \"\\nWe have added 11 to our list - let's look at it one more time: \", uneven_numbers\n",
    "\n",
    "# Most of the indexing you see above also applies to numpy arrays. "
   ]
  },
  {
   "cell_type": "code",
   "execution_count": 11,
   "metadata": {
    "collapsed": false
   },
   "outputs": [
    {
     "name": "stdout",
     "output_type": "stream",
     "text": [
      "[2, 4, 8]\n"
     ]
    }
   ],
   "source": [
    "# There is a useful and readable way to create lists from other lists, \n",
    "# called list comprehension – a line with a for loop within list brackets:\n",
    "\n",
    "numbers = [1, 2, 3]\n",
    "powers_of_two = [2 ** n for n in numbers]  #  ** means \"to the power of\"\n",
    "print powers_of_two"
   ]
  },
  {
   "cell_type": "markdown",
   "metadata": {},
   "source": [
    "### Dictionaries"
   ]
  },
  {
   "cell_type": "markdown",
   "metadata": {},
   "source": [
    "It is often required to associate a key with a value, e.g. a name with a data matrix. For this dictionaries are useful. They are created in the following way:"
   ]
  },
  {
   "cell_type": "code",
   "execution_count": 12,
   "metadata": {
    "collapsed": false
   },
   "outputs": [
    {
     "name": "stdout",
     "output_type": "stream",
     "text": [
      "How many eggs will we need? 2\n"
     ]
    }
   ],
   "source": [
    "ingredients = {'spam': 80, 'eggs': 2, \"bacon\": 5}\n",
    "\n",
    "# The data linked to a key is then accessed by: \n",
    "print \"How many eggs will we need?\", ingredients['eggs']\n",
    "\n",
    "number_of_eggs = ingredients['eggs']  # accessing a dictionary element with a key"
   ]
  },
  {
   "cell_type": "code",
   "execution_count": 13,
   "metadata": {
    "collapsed": false
   },
   "outputs": [
    {
     "name": "stdout",
     "output_type": "stream",
     "text": [
      "All keys and values: \n",
      "eggs: 2\n",
      "bacon: 5\n",
      "spam: 80\n",
      "\n",
      "All keys: \n",
      "eggs\n",
      "bacon\n",
      "spam\n",
      "\n",
      "All values: \n",
      "2\n",
      "5\n",
      "80\n"
     ]
    }
   ],
   "source": [
    "# We can list all the ingredients in our dictionary by:\n",
    "print \"All keys and values: \"\n",
    "for key, value in ingredients.items(): \n",
    "    print key + \":\", value\n",
    "    \n",
    "print \"\\nAll keys: \"\n",
    "for key in ingredients.keys():    # keys() returns a list\n",
    "    print key\n",
    "\n",
    "print \"\\nAll values: \"\n",
    "for val in ingredients.values():  # values() returns a list\n",
    "    print val"
   ]
  },
  {
   "cell_type": "markdown",
   "metadata": {},
   "source": [
    "# Scientific Python"
   ]
  },
  {
   "cell_type": "markdown",
   "metadata": {},
   "source": [
    "When talking about *Scientific Python* people mean a range of python modules that have advanced matrix manipulation and many scientific and math functions. Almost all of them use the module `numpy` as a basis for storing data in efficient arrays / matrices. Plenty of machine learning and neural network modules (e.g. chainer) rely on the scientific python modules as a basis. \n",
    "\n",
    "The notation is oriented towards MATLAB, and some of MATLAB's performance rules apply here as well since internally they use the same highly efficient standard math packages (..if you have installed Anaconda). So if you have learned some MATLAB vectorization stunts, in principle you can apply this knowledge here as well. "
   ]
  },
  {
   "cell_type": "code",
   "execution_count": 1,
   "metadata": {
    "collapsed": false
   },
   "outputs": [
    {
     "name": "stderr",
     "output_type": "stream",
     "text": [
      "/Users/stijnvoss/anaconda2/lib/python2.7/site-packages/matplotlib/font_manager.py:273: UserWarning: Matplotlib is building the font cache using fc-list. This may take a moment.\n",
      "  warnings.warn('Matplotlib is building the font cache using fc-list. This may take a moment.')\n"
     ]
    }
   ],
   "source": [
    "# This line assures that plots are embedded within in the Jupyter Notebook\n",
    "%matplotlib inline\n",
    "# Just remember to place it on top of your Jupyter Notebook."
   ]
  },
  {
   "cell_type": "code",
   "execution_count": 2,
   "metadata": {
    "collapsed": false
   },
   "outputs": [
    {
     "data": {
      "text/plain": [
       "4"
      ]
     },
     "execution_count": 2,
     "metadata": {},
     "output_type": "execute_result"
    }
   ],
   "source": [
    "# You get access to all standard math functions by importing the following modules: \n",
    "import numpy as np   # for efficient matrix computations\n",
    "import matplotlib.pyplot as plt  # for plotting\n",
    "import scipy as sc   # for some additional math functions and scientific constants\n",
    "\n",
    "# np or sc are aliases. Using them, you can write\n",
    "np.max([1,2,3,4])\n",
    "# instead of  numpy.max([1,2,3,4])"
   ]
  },
  {
   "cell_type": "markdown",
   "metadata": {},
   "source": [
    "For any computations you will make use of **numpy arrays**, which only can contain one data type (e.g. floating point numbers of a specific precision). Similar to creating a list of numbers with `range()` we create a numpy array next:"
   ]
  },
  {
   "cell_type": "code",
   "execution_count": 3,
   "metadata": {
    "collapsed": false
   },
   "outputs": [
    {
     "name": "stdout",
     "output_type": "stream",
     "text": [
      "Are arr_500 and arr_500_from_list still equal?  True\n",
      "Number 423 from our numpy array:  423\n"
     ]
    }
   ],
   "source": [
    "# Create an array counting from 0 to 499 (note that Python uses zero-based indexing):\n",
    "arr_500 = np.arange(500)\n",
    "\n",
    "# You can convert lists of numbers into numpy arrays and back: \n",
    "list_500 = arr_500.tolist()\n",
    "\n",
    "arr_500_from_list = np.array(list_500)\n",
    "\n",
    "print \"Are arr_500 and arr_500_from_list still equal? \", np.all(\n",
    "                                                                 np.equal(arr_500, arr_500_from_list)\n",
    "                                                               )\n",
    "\n",
    "# Numpy array indexing is basically similar to list indexing:\n",
    "print \"Number 423 from our numpy array: \", arr_500[423]"
   ]
  },
  {
   "cell_type": "code",
   "execution_count": 4,
   "metadata": {
    "collapsed": false
   },
   "outputs": [
    {
     "name": "stdout",
     "output_type": "stream",
     "text": [
      "Our vector: [1 2 3]\n",
      "Our matrix:\n",
      "[[ 3  6 -5]\n",
      " [ 1 -3  2]\n",
      " [ 6  5  1]\n",
      " [ 1 -5  2]]\n",
      "Our matrix has the dimensions (4, 3)\n",
      "Second row of mat: [ 1 -3  2]\n",
      "Second column of mat: [ 6 -3  5 -5]\n",
      "Lower right slice of mat:\n",
      "[[-3  2]\n",
      " [ 5  1]\n",
      " [-5  2]]\n",
      "Flattened mat: [ 3  6 -5  1 -3  2  6  5  1  1 -5  2]\n"
     ]
    }
   ],
   "source": [
    "# We have created a 1D array (a vector) above. We could have written it explicitly as a list:\n",
    "vec = np.array( [1,2,3] )\n",
    "print \"Our vector:\", vec\n",
    "\n",
    "# You could write a multi-dimensional array (a matrix) explicitly as a nested list: \n",
    "mat = np.array([ [3, 6, -5], \n",
    "                 [1, -3, 2],\n",
    "                 [6, 5,  1],\n",
    "                 [1, -5, 2] ])\n",
    "\n",
    "# But usually you would read in data from a file. \n",
    "\n",
    "# Let's access data in mat: \n",
    "print \"Our matrix:\\n\", mat\n",
    "print \"Our matrix has the dimensions\", mat.shape\n",
    "\n",
    "# Get the second row of mat\n",
    "print \"Second row of mat:\", mat[1,:]\n",
    "\n",
    "# Get the second column of mat: \n",
    "print \"Second column of mat:\", mat[:,1]\n",
    "\n",
    "# Get a submatrix: \n",
    "print \"Lower right slice of mat:\\n\", mat[1:,1:3]\n",
    "\n",
    "# If you write 1: , you will get data from the second index [1] to the end.\n",
    "# If you write :3 , you will get data from the first index [0] to index [3]. \n",
    "\n",
    "# You can also get the data from mat as a 1D vector: \n",
    "print \"Flattened mat:\", mat.ravel()\n",
    "# Note that when extracting data like this, in numpy the data in the vector will then be  \n",
    "# in row-major order: https://en.wikipedia.org/wiki/Row-major_order\n",
    "# Matlab uses column-major order. "
   ]
  },
  {
   "cell_type": "code",
   "execution_count": 5,
   "metadata": {
    "collapsed": false
   },
   "outputs": [
    {
     "name": "stdout",
     "output_type": "stream",
     "text": [
      "Matrix with random numbers drawn from a normal distribution:\n",
      "[[ 0.30070288 -2.24500062  0.61795519  1.76936537 -1.29936009  0.61543986]\n",
      " [ 0.35279238 -0.67054859 -0.97131674  0.40980409 -0.25683255 -0.99074455]\n",
      " [-0.27776206 -0.92441237  1.78890832 -0.47375787  1.1821806  -2.32664607]\n",
      " [-1.6924122   3.3782072  -1.31127416 -0.83711827 -0.42259011 -3.34460944]]\n"
     ]
    }
   ],
   "source": [
    "# There are also functions to preallocate space for your matrices:\n",
    "D = np.zeros([42,23])\n",
    "\n",
    "# Or to just create random numbers, with a uniform distribution: \n",
    "E = np.random.uniform(0,1,[42,23])\n",
    "\n",
    "# ..and with a normal distribution: \n",
    "F = np.random.randn(4,6)\n",
    "\n",
    "print \"Matrix with random numbers drawn from a normal distribution:\\n\", F"
   ]
  },
  {
   "cell_type": "markdown",
   "metadata": {},
   "source": [
    "### Speed of numpy arrays\n",
    "\n",
    "We claimed that numpy arrays are much more efficient, but is this really true? Let's check: "
   ]
  },
  {
   "cell_type": "code",
   "execution_count": 6,
   "metadata": {
    "collapsed": true
   },
   "outputs": [],
   "source": [
    "# Function for multiplication of vector with scalar using \n",
    "# a python list for the vector: \n",
    "def list_time(alist, scalar):\n",
    "    for i, val in enumerate(alist):\n",
    "        alist[i] = val * scalar\n",
    "    return alist"
   ]
  },
  {
   "cell_type": "code",
   "execution_count": 7,
   "metadata": {
    "collapsed": false
   },
   "outputs": [
    {
     "name": "stdout",
     "output_type": "stream",
     "text": [
      "Speed of vector-scalar multiplication with Python List: \n",
      "10000 loops, best of 3: 130 µs per loop\n"
     ]
    }
   ],
   "source": [
    "print \"Speed of vector-scalar multiplication with Python List: \"\n",
    "%timeit list_time(list_500, 1.1)"
   ]
  },
  {
   "cell_type": "code",
   "execution_count": 8,
   "metadata": {
    "collapsed": false
   },
   "outputs": [
    {
     "name": "stdout",
     "output_type": "stream",
     "text": [
      "Speed of vector-scalar multiplication with NumPy arrays: \n",
      "The slowest run took 11.20 times longer than the fastest. This could mean that an intermediate result is being cached.\n",
      "100000 loops, best of 3: 2.15 µs per loop\n"
     ]
    }
   ],
   "source": [
    "print \"Speed of vector-scalar multiplication with NumPy arrays: \"\n",
    "\n",
    "# Element-wise multiplication with scalars is a universal numpy function, \n",
    "# i.e. one that works on all numpy arrays. So we can directly use it: \n",
    "%timeit arr_500 * 1.1"
   ]
  },
  {
   "cell_type": "markdown",
   "metadata": {},
   "source": [
    "This is indeed quite a speed difference. "
   ]
  },
  {
   "cell_type": "markdown",
   "metadata": {},
   "source": [
    "### Basic math functions and matrix multiplication\n",
    "\n",
    "If you have been writing lots of Matlab code before, this guide will be very useful: \n",
    "[Numpy for Matlab Users](https://docs.scipy.org/doc/numpy-dev/user/numpy-for-matlab-users.html)\n",
    "\n",
    "\n",
    "For now please take a quick look through the sections NumPy and Scipy of this guide: [Scientific Python Cheat Sheet](https://ipgp.github.io/scientific_python_cheat_sheet/)\n",
    "\n",
    "After this you will have an overview of the most important math functions. Here we shortly introduce: \n",
    "\n",
    "#### Matrix multiplication"
   ]
  },
  {
   "cell_type": "code",
   "execution_count": 9,
   "metadata": {
    "collapsed": false
   },
   "outputs": [
    {
     "name": "stdout",
     "output_type": "stream",
     "text": [
      "Dimensions of A:  (42, 23)\n",
      "Dimensions of B:  (23, 42)\n",
      "Dimensions of C=A*B:  (42, 42)\n"
     ]
    }
   ],
   "source": [
    "# Let's create two matrices:\n",
    "A = np.random.uniform(0,1,[42,23])\n",
    "B = np.random.uniform(0,1,[23,42])\n",
    "\n",
    "# To do matrix multiplication, you use the dot product like this: \n",
    "C = np.dot(A, B)\n",
    "\n",
    "print \"Dimensions of A: \", A.shape\n",
    "print \"Dimensions of B: \", B.shape\n",
    "print \"Dimensions of C=A*B: \", C.shape"
   ]
  },
  {
   "cell_type": "code",
   "execution_count": 12,
   "metadata": {
    "collapsed": false
   },
   "outputs": [
    {
     "name": "stdout",
     "output_type": "stream",
     "text": [
      "Dimensions of A * B.T:  (42, 23)\n"
     ]
    }
   ],
   "source": [
    "# Note that A * B is element-wise multiplication between A and B. So only the following will work: \n",
    "D = A * B.T\n",
    "\n",
    "print \"Dimensions of A * B.T: \", D.shape\n",
    "# ..where B.T is the transpose of B. Try what happens when you remove .T ."
   ]
  },
  {
   "cell_type": "markdown",
   "metadata": {},
   "source": [
    "### Basic plotting\n",
    "\n",
    "Matplotlib is commonly used for plotting and its basic plot functions are easy to use. \n",
    "\n",
    "For more advanced plotting we recommend looking at the examples of `seaborn`. During the assignments you will only need Matplotlib plotting functions. "
   ]
  },
  {
   "cell_type": "code",
   "execution_count": 13,
   "metadata": {
    "collapsed": false
   },
   "outputs": [
    {
     "data": {
      "image/png": "[encoded data removed]",
      "text/plain": [
       "<matplotlib.figure.Figure at 0x10c1b8f10>"
      ]
     },
     "metadata": {},
     "output_type": "display_data"
    }
   ],
   "source": [
    "x = np.arange(0.0, 2.0, 0.01)   # Create a range of x values: Go from 0 to 2 in 0.01 steps.\n",
    "s = np.sin(2 * np.pi * x)       # s will contain the amplitudes of a sine wave now.\n",
    "\n",
    "# https://jakevdp.github.io/blog/2012/10/07/xkcd-style-plots-in-matplotlib/\n",
    "# plt.xkcd()  \n",
    "\n",
    "plt.plot(x, s)  # Plot s over x\n",
    "\n",
    "plt.xlabel('time (s)')\n",
    "plt.ylabel('voltage (mV)')\n",
    "\n",
    "# LaTeX math in plot annotations goes into $ ... $ again: \n",
    "plt.title('Simple plot of $ \\sin( 2 \\pi x) $')  \n",
    "plt.grid(True)"
   ]
  },
  {
   "cell_type": "markdown",
   "metadata": {},
   "source": [
    "You can save a figure to disk with:\n",
    "\n",
    "    plt.savefig(\"saved_figure.png\")\n",
    "\n",
    "They will appear in the current working directory of your notebook, which you can check with the command `pwd`.\n",
    "\n",
    "\n",
    "There are many other plot types, and by searching for it online you will easily find examples and documentation. Let's also create a scatter plot: "
   ]
  },
  {
   "cell_type": "code",
   "execution_count": 14,
   "metadata": {
    "collapsed": false
   },
   "outputs": [
    {
     "data": {
      "text/plain": [
       "<matplotlib.text.Text at 0x10cad16d0>"
      ]
     },
     "execution_count": 14,
     "metadata": {},
     "output_type": "execute_result"
    },
    {
     "data": {
      "image/png": "[encoded data removed]",
      "text/plain": [
       "<matplotlib.figure.Figure at 0x10bf13a10>"
      ]
     },
     "metadata": {},
     "output_type": "display_data"
    }
   ],
   "source": [
    "plt.figure(figsize=[5,5])  # we use figsize=[width, height] to make a square plot\n",
    "\n",
    "x = np.random.randn(1,423)\n",
    "y = np.random.randn(1,423)\n",
    "\n",
    "plt.scatter(x,y)\n",
    "\n",
    "plt.xlabel('x values')\n",
    "plt.ylabel('y values')\n",
    "\n",
    "plt.title('Scatter plot')"
   ]
  },
  {
   "cell_type": "markdown",
   "metadata": {
    "collapsed": true
   },
   "source": [
    "We now have created lots of variables and some functions. Use the following to inspect all variables in your current workspace, and also see the memory they need:"
   ]
  },
  {
   "cell_type": "code",
   "execution_count": 26,
   "metadata": {
    "collapsed": false
   },
   "outputs": [
    {
     "name": "stdout",
     "output_type": "stream",
     "text": [
      "Variable            Type        Data/Info\n",
      "-----------------------------------------\n",
      "A                   ndarray     42x23: 966 elems, type `float64`, 7728 bytes\n",
      "B                   ndarray     23x42: 966 elems, type `float64`, 7728 bytes\n",
      "C                   ndarray     42x42: 1764 elems, type `float64`, 14112 bytes\n",
      "D                   ndarray     42x23: 966 elems, type `float64`, 7728 bytes\n",
      "E                   ndarray     42x23: 966 elems, type `float64`, 7728 bytes\n",
      "F                   ndarray     4x6: 24 elems, type `float64`, 192 bytes\n",
      "a_list              list        n=3\n",
      "arr_500             ndarray     500: 500 elems, type `int64`, 4000 bytes\n",
      "arr_500_from_list   ndarray     500: 500 elems, type `int64`, 4000 bytes\n",
      "even_numbers        list        n=5\n",
      "ingredients         dict        n=3\n",
      "isprime             function    <function isprime at 0x103d65500>\n",
      "key                 str         spam\n",
      "list_500            list        n=500\n",
      "list_time           function    <function list_time at 0x10a2a9ed8>\n",
      "mat                 ndarray     4x3: 12 elems, type `int64`, 96 bytes\n",
      "n                   int         3\n",
      "name                list        n=6\n",
      "np                  module      <module 'numpy' from '/Us<...>ages/numpy/__init__.pyc'>\n",
      "number_of_eggs      int         2\n",
      "numbers             list        n=3\n",
      "plt                 module      <module 'matplotlib.pyplo<...>s/matplotlib/pyplot.pyc'>\n",
      "powers_of_two       list        n=3\n",
      "s                   ndarray     200: 200 elems, type `float64`, 1600 bytes\n",
      "sc                  module      <module 'scipy' from '/Us<...>ages/scipy/__init__.pyc'>\n",
      "uneven_numbers      list        n=6\n",
      "val                 int         80\n",
      "value               int         80\n",
      "vec                 ndarray     3: 3 elems, type `int64`, 24 bytes\n",
      "x                   ndarray     1x423: 423 elems, type `float64`, 3384 bytes\n",
      "y                   ndarray     1x423: 423 elems, type `float64`, 3384 bytes\n"
     ]
    }
   ],
   "source": [
    "whos"
   ]
  },
  {
   "cell_type": "markdown",
   "metadata": {},
   "source": [
    "### Loading and saving data\n",
    "\n",
    "Some of the data for the assignments is provided in Matlab matrix format, e.g. `69dataset.mat` . `scipy` provides functions for loading and saving Matlab data. Since this interface is simple you can also use it to save variables you need again later. "
   ]
  },
  {
   "cell_type": "code",
   "execution_count": 27,
   "metadata": {
    "collapsed": false
   },
   "outputs": [
    {
     "name": "stdout",
     "output_type": "stream",
     "text": [
      "['__globals__', 'I', 'funloc', 'masks', '__header__', 'prior', 'Y', 'X', '__version__', 'structural']\n",
      "Dimensions of X: (100, 3092)\n",
      "Dimensions of Y: (100, 1)\n"
     ]
    }
   ],
   "source": [
    "from scipy.io import loadmat, savemat  # This line means that we only import loadmat and savemat, \n",
    "                                       # not all functions in scipy.io \n",
    "\n",
    "dataset = loadmat('69dataset.mat')\n",
    "\n",
    "# Dataset is a dictionary that contains the variables I, funloc, masks, prior, Y, X and structural. \n",
    "print dataset.keys()\n",
    "\n",
    "# Let's save X and Y in their own variable:\n",
    "X = dataset['X']\n",
    "\n",
    "Y = dataset['Y']\n",
    "\n",
    "print \"Dimensions of X:\", X.shape\n",
    "print \"Dimensions of Y:\", Y.shape"
   ]
  },
  {
   "cell_type": "code",
   "execution_count": 28,
   "metadata": {
    "collapsed": true
   },
   "outputs": [],
   "source": [
    "# Similarly, when saving data you need to provide all variables you want to save in a dict. \n",
    "# You can write the dict directly into the savemat function, but make sure to provide a name \n",
    "# for each variable: \n",
    "savemat('Y_and_X.mat', {'X':X, 'Y':Y} )"
   ]
  },
  {
   "cell_type": "markdown",
   "metadata": {},
   "source": [
    "## Links to reference and tutorials\n",
    "\n",
    "#### General Python tutorials\n",
    "[Beginner's Guide for non-programmers](https://wiki.python.org/moin/BeginnersGuide/NonProgrammers)\n",
    "\n",
    "[Codecademy interactive course](https://www.codecademy.com/learn/python)\n",
    "\n",
    "[Google Python Tutorial (for programmers)](https://developers.google.com/edu/python/)\n",
    "\n",
    "[Learn Python the Hard Way](http://learnpythonthehardway.org/)\n",
    "\n",
    "\n",
    "#### Scientific Python\n",
    "[Scientific Python Cheat Sheet](https://ipgp.github.io/scientific_python_cheat_sheet/)\n",
    "\n",
    "[Numpy Documentation](http://docs.scipy.org/doc/)\n",
    "\n",
    "[Numpy for Matlab Users](https://docs.scipy.org/doc/numpy-dev/user/numpy-for-matlab-users.html)\n",
    "\n",
    "[Gallery of good scientific Python notebooks](https://github.com/ipython/ipython/wiki/A-gallery-of-interesting-IPython-Notebooks)\n",
    "\n",
    "\n",
    "#### Other\n",
    "[Jupyter Notebooks Documentation](http://jupyter-notebook.readthedocs.io/en/latest/examples/Notebook/examples_index.html)\n",
    "\n",
    "[xkcd style matplotlib gallery](http://matplotlib.org/xkcd/gallery.html)"
   ]
  },
  {
   "cell_type": "code",
   "execution_count": null,
   "metadata": {
    "collapsed": true
   },
   "outputs": [],
   "source": []
  }
 ],
 "metadata": {
  "anaconda-cloud": {},
  "kernelspec": {
   "display_name": "Python [Root]",
   "language": "python",
   "name": "Python [Root]"
  },
  "language_info": {
   "codemirror_mode": {
    "name": "ipython",
    "version": 2
   },
   "file_extension": ".py",
   "mimetype": "text/x-python",
   "name": "python",
   "nbconvert_exporter": "python",
   "pygments_lexer": "ipython2",
   "version": "2.7.12"
  }
 },
 "nbformat": 4,
 "nbformat_minor": 0
}
